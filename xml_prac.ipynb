{
 "cells": [
  {
   "cell_type": "markdown",
   "metadata": {},
   "source": [
    "#### xml 파일 알람 이벤트 시작 진행 시간 가져오기\n",
    "- StartTime, AlarmDuration"
   ]
  },
  {
   "cell_type": "code",
   "execution_count": 10,
   "metadata": {},
   "outputs": [
    {
     "name": "stdout",
     "output_type": "stream",
     "text": [
      "00:04:00\n",
      "0:0:10\n"
     ]
    }
   ],
   "source": [
    "import os \n",
    "from pathlib import Path\n",
    "import glob\n",
    "import cv2\n",
    "import xml.etree.ElementTree as ET\n",
    "\n",
    "xml_file = \"./data_sample/C055200_006.xml\"\n",
    "doc = ET.parse(xml_file)\n",
    "\n",
    "# root 노드 가져오기\n",
    "root = doc.getroot()\n",
    "\n",
    "for Alarm in root.findall(\"./Library/Clip/Alarms/Alarm\"):\n",
    "    start = Alarm.find('StartTime').text\n",
    "    AlarmDuration = Alarm.find('AlarmDuration').text\n",
    "    AlarmDescription = Alarm.find('AlarmDescription').text\n",
    "\n",
    "print(start)\n",
    "print(AlarmDuration)"
   ]
  },
  {
   "cell_type": "code",
   "execution_count": 3,
   "metadata": {},
   "outputs": [
    {
     "name": "stdout",
     "output_type": "stream",
     "text": [
      "4\n",
      "0\n",
      "10\n"
     ]
    }
   ],
   "source": [
    "StartHour = int(start[3:5])\n",
    "StartMin = int(start[6:8])\n",
    "AlarmDuration_int = int(AlarmDuration[4:6])\n",
    "\n",
    "print(StartHour)\n",
    "print(StartMin)\n",
    "print(AlarmDuration_int)"
   ]
  },
  {
   "cell_type": "code",
   "execution_count": 4,
   "metadata": {},
   "outputs": [
    {
     "name": "stdout",
     "output_type": "stream",
     "text": [
      "240\n"
     ]
    }
   ],
   "source": [
    "StartTime_time = (StartHour * 60) + StartMin\n",
    "print(StartTime_time)"
   ]
  },
  {
   "cell_type": "markdown",
   "metadata": {},
   "source": [
    "#### opencv 사용하여 해당 영상 fps 확인"
   ]
  },
  {
   "cell_type": "code",
   "execution_count": 5,
   "metadata": {},
   "outputs": [
    {
     "name": "stdout",
     "output_type": "stream",
     "text": [
      "Frame width: 1280.0\n",
      "Frame height: 720.0\n",
      "Frame count: 16320.0\n",
      "FPS: 30.000027573554757\n"
     ]
    }
   ],
   "source": [
    "import cv2\n",
    "\n",
    "# mp4 영상 위치\n",
    "mp4_file = './data_sample/C055200_006.mp4'\n",
    "cap = cv2.VideoCapture(mp4_file)\n",
    "\n",
    "width = float(cap.get(cv2.CAP_PROP_FRAME_WIDTH))\n",
    "height = float(cap.get(cv2.CAP_PROP_FRAME_HEIGHT))\n",
    "count = float(cap.get(cv2.CAP_PROP_FRAME_COUNT))\n",
    "\n",
    "print('Frame width:', width)\n",
    "print('Frame height:', height)\n",
    "print('Frame count:', count)\n",
    "\n",
    "fps = float(cap.get(cv2.CAP_PROP_FPS))\n",
    "\n",
    "print('FPS:', fps)"
   ]
  },
  {
   "cell_type": "code",
   "execution_count": 6,
   "metadata": {},
   "outputs": [
    {
     "name": "stdout",
     "output_type": "stream",
     "text": [
      "영상 시작 프레임 :  7200.006617653142\n",
      "영상 끝나는 프레임 :  7500.00689338869\n"
     ]
    }
   ],
   "source": [
    "Start_fps = StartTime_time * fps\n",
    "End_fps = (StartTime_time + AlarmDuration_int) * fps\n",
    "\n",
    "print(\"영상 시작 프레임 : \", Start_fps)\n",
    "print(\"영상 끝나는 프레임 : \", End_fps)"
   ]
  },
  {
   "cell_type": "markdown",
   "metadata": {},
   "source": [
    "#### 디렉토리"
   ]
  },
  {
   "cell_type": "code",
   "execution_count": 7,
   "metadata": {},
   "outputs": [
    {
     "name": "stdout",
     "output_type": "stream",
     "text": [
      "C045100_001.mp4\n"
     ]
    }
   ],
   "source": [
    "import os \n",
    "import os.path\n",
    "import glob\n",
    "\n",
    "# data_sample 주소 입력\n",
    "path = 'C:/Users/DIP아카데미센터-KDigital02/Desktop/OpenCV/data_sample'\n",
    "\n",
    "file_list1 = os.listdir(path)\n",
    "\n",
    "print(file_list1[0])"
   ]
  },
  {
   "cell_type": "code",
   "execution_count": 8,
   "metadata": {},
   "outputs": [
    {
     "name": "stdout",
     "output_type": "stream",
     "text": [
      "['C:/Users/DIP아카데미센터-KDigital02/Desktop/OpenCV/data_sample\\\\C045100_001.xml', 'C:/Users/DIP아카데미센터-KDigital02/Desktop/OpenCV/data_sample\\\\C045300_010.xml', 'C:/Users/DIP아카데미센터-KDigital02/Desktop/OpenCV/data_sample\\\\C055200_006.xml']\n",
      "C045100_001\n",
      "C045100_001\n"
     ]
    }
   ],
   "source": [
    "from pathlib import Path\n",
    "\n",
    "xml_path = glob.glob(f\"{path}/*.xml\", recursive=True)\n",
    "mp4_path = glob.glob(f\"{path}/*.mp4\", recursive=True)\n",
    "\n",
    "xmlfile_name = Path(xml_path[0]).stem\n",
    "mp4file_name = Path(xml_path[0]).stem\n",
    "\n",
    "print(xml_path)\n",
    "\n",
    "print(xmlfile_name)\n",
    "print(mp4file_name)"
   ]
  },
  {
   "cell_type": "code",
   "execution_count": 9,
   "metadata": {},
   "outputs": [
    {
     "name": "stdout",
     "output_type": "stream",
     "text": [
      "C045100_001의  Frame width: 1280\n",
      "C045100_001의  Frame height: 720\n",
      "C045100_001의  Frame count: 14100\n",
      "C045100_001의  FPS: 30.000025531936622\n",
      "C045100_001의  codec: 828601953\n",
      "C045300_010의  Frame width: 1280\n",
      "C045300_010의  Frame height: 720\n",
      "C045300_010의  Frame count: 14340\n",
      "C045300_010의  FPS: 30.000027196677376\n",
      "C045300_010의  codec: 828601953\n",
      "C055200_006의  Frame width: 1280\n",
      "C055200_006의  Frame height: 720\n",
      "C055200_006의  Frame count: 16320\n",
      "C055200_006의  FPS: 30.000027573554757\n",
      "C055200_006의  codec: 828601953\n"
     ]
    }
   ],
   "source": [
    "for xml_file in xml_path :\n",
    "    \n",
    "\n",
    "    mp4_file = xml_file[:-4]+\".mp4\"\n",
    "\n",
    "    mp4_file_name = Path(mp4_file).stem\n",
    "    \n",
    "    cap = cv2.VideoCapture(mp4_file)\n",
    "\n",
    "    width = int(cap.get(cv2.CAP_PROP_FRAME_WIDTH))\n",
    "    height = int(cap.get(cv2.CAP_PROP_FRAME_HEIGHT))\n",
    "    count = int(cap.get(cv2.CAP_PROP_FRAME_COUNT))\n",
    "    fourcc = int(cap.get(cv2.CAP_PROP_FOURCC))\n",
    "    \n",
    "\n",
    "    # 동영상 FPS값\n",
    "    fps = float(cap.get(cv2.CAP_PROP_FPS))\n",
    "\n",
    "    print(f'{mp4_file_name}의 ', 'Frame width:', width)\n",
    "    print(f'{mp4_file_name}의 ', 'Frame height:', height)\n",
    "    print(f'{mp4_file_name}의 ', 'Frame count:', count)\n",
    "\n",
    "    print(f'{mp4_file_name}의 ', 'FPS:', fps)\n",
    "    print(f'{mp4_file_name}의 ', 'codec:', fourcc)"
   ]
  },
  {
   "cell_type": "code",
   "execution_count": 11,
   "metadata": {},
   "outputs": [],
   "source": [
    "def time2sec(timeStr):\n",
    "    \n",
    "    time_HMS = timeStr.split(\":\")\n",
    "    hour = int(time_HMS[0])\n",
    "    min = int(time_HMS[1])\n",
    "    sec = int(time_HMS[2])\n",
    "    \n",
    "    return hour*3600+min*60+sec"
   ]
  },
  {
   "cell_type": "code",
   "execution_count": 12,
   "metadata": {},
   "outputs": [
    {
     "name": "stdout",
     "output_type": "stream",
     "text": [
      "['C:/Users/DIP아카데미센터-KDigital02/Desktop/OpenCV/data_sample\\\\C045100_001.xml', 'C:/Users/DIP아카데미센터-KDigital02/Desktop/OpenCV/data_sample\\\\C045300_010.xml', 'C:/Users/DIP아카데미센터-KDigital02/Desktop/OpenCV/data_sample\\\\C055200_006.xml']\n",
      "['C:/Users/DIP아카데미센터-KDigital02/Desktop/OpenCV/data_sample\\\\C045100_001.mp4', 'C:/Users/DIP아카데미센터-KDigital02/Desktop/OpenCV/data_sample\\\\C045300_010.mp4', 'C:/Users/DIP아카데미센터-KDigital02/Desktop/OpenCV/data_sample\\\\C055200_006.mp4']\n"
     ]
    }
   ],
   "source": [
    "i = 0\n",
    "\n",
    "while i < (len(xml_path)):\n",
    "    xml_path[i]\n",
    "    mp4_path[i]\n",
    "    i += 1\n",
    "\n",
    "print(xml_path)\n",
    "print(mp4_path)"
   ]
  },
  {
   "cell_type": "markdown",
   "metadata": {},
   "source": [
    "### result 폴더 만들기"
   ]
  },
  {
   "cell_type": "code",
   "execution_count": 50,
   "metadata": {},
   "outputs": [],
   "source": [
    "result_folder = f'{path}/result'\n",
    "\n",
    "if not os.path.isdir(result_folder):\n",
    "    os.mkdir(result_folder)"
   ]
  },
  {
   "cell_type": "markdown",
   "metadata": {},
   "source": [
    "#### FFMPEG Practice"
   ]
  },
  {
   "cell_type": "code",
   "execution_count": null,
   "metadata": {},
   "outputs": [],
   "source": [
    "from tkinter import S\n",
    "import ffmpeg\n",
    "import sys\n",
    "\n",
    "# sys.path.append(r'C:\\Program Files\\ffmpeg-4.3\\bin')h\n",
    "\n",
    "stream = ffmpeg.input(mp4_file) # video location\n",
    "\n",
    "# 시작 종료 시간으로 영상 편집\n",
    "stream = stream.trim(start = StartTime_time, duration = AlarmDuration).filter('setpts', 'PTS-STARTPTS')\n",
    "stream = stream.filter('fps', fps, round='up').filter('scale', width, height)\n",
    "\n",
    "stream = ffmpeg.output(stream, f\"{result_folder}/test.mp4\")\n",
    "\n",
    "ffmpeg.run(stream)"
   ]
  },
  {
   "cell_type": "code",
   "execution_count": 51,
   "metadata": {},
   "outputs": [
    {
     "data": {
      "text/plain": [
       "(None, None)"
      ]
     },
     "execution_count": 51,
     "metadata": {},
     "output_type": "execute_result"
    }
   ],
   "source": [
    "from tkinter import S\n",
    "import ffmpeg\n",
    "import sys\n",
    "\n",
    "# sys.path.append(r'C:\\Program Files\\ffmpeg-4.3\\bin')h\n",
    "\n",
    "stream = ffmpeg.input(mp4_file) # video location\n",
    "\n",
    "# 시작 종료 프레임 으로 영상 편집\n",
    "stream = stream.trim(start_frame=6150.005575318862, end_frame=6450.005847285636).filter('setpts', 'PTS-STARTPTS')\n",
    "stream = stream.filter('fps', fps, round='up').filter('scale', width, height)\n",
    "\n",
    "stream = ffmpeg.output(stream, f\"{result_folder}/test.mp4\")\n",
    "\n",
    "ffmpeg.run(stream)"
   ]
  },
  {
   "cell_type": "markdown",
   "metadata": {},
   "source": [
    "#### 비디오를 프레임 단위로 자르는 코드(이미지 저장)"
   ]
  },
  {
   "cell_type": "code",
   "execution_count": null,
   "metadata": {},
   "outputs": [],
   "source": [
    "import cv2\n",
    "\n",
    "vidcap = cv2.VideoCapture(mp4_file)\n",
    "success,image = vidcap.read()\n",
    "\n",
    "count = 1\n",
    "success = True\n",
    "\n",
    "while success:\n",
    "  success,image = vidcap.read()\n",
    "  cv2.imwrite(\"./data_sample/result//%d.jpg\" % count, image)\n",
    "  print(\"saved image %d.jpg\" % count)\n",
    "  \n",
    "  if cv2.waitKey(10) == 27:                    \n",
    "      break\n",
    "  count += 1"
   ]
  }
 ],
 "metadata": {
  "kernelspec": {
   "display_name": "Python 3.10.5 32-bit (system)",
   "language": "python",
   "name": "python3"
  },
  "language_info": {
   "codemirror_mode": {
    "name": "ipython",
    "version": 3
   },
   "file_extension": ".py",
   "mimetype": "text/x-python",
   "name": "python",
   "nbconvert_exporter": "python",
   "pygments_lexer": "ipython3",
   "version": "3.10.5"
  },
  "orig_nbformat": 4,
  "vscode": {
   "interpreter": {
    "hash": "aa7bf237a3b7f427a75d4522eb314d80a477a541bfcd74a987440f473de43b5d"
   }
  }
 },
 "nbformat": 4,
 "nbformat_minor": 2
}
